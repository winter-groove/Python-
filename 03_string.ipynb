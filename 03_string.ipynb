{
 "cells": [
  {
   "cell_type": "code",
   "execution_count": 2,
   "id": "7dadc6e9",
   "metadata": {},
   "outputs": [
    {
     "name": "stdout",
     "output_type": "stream",
     "text": [
      "Python is Good\n",
      "Hello\n",
      "World\n"
     ]
    }
   ],
   "source": [
    "# 큰따옴표나 작은따옴표로 묶어주면 문자열 데이터로 취급된다.\n",
    "memo = 'Python is Good'\n",
    "print(memo)\n",
    "memo = \"Hello\\nWorld\"\n",
    "print(memo)"
   ]
  },
  {
   "cell_type": "code",
   "execution_count": 3,
   "id": "914b767b",
   "metadata": {},
   "outputs": [
    {
     "name": "stdout",
     "output_type": "stream",
     "text": [
      "개울가에\n",
      "올챙이 한마리\n",
      "꼬물꼬물 헤엄치다\n",
      "앞다리가 쏘옥\n",
      "뒷다리가 쑤욱\n",
      "팔딱팔딱 메뚜기됬네\n"
     ]
    }
   ],
   "source": [
    "# 큰따옴표 3개를 연속해서 사용하면 개행문자(\\n)를 사용하지 않고 여러줄 문자열을 만들 수 있다.\n",
    "memo = \"\"\"개울가에\n",
    "올챙이 한마리\n",
    "꼬물꼬물 헤엄치다\n",
    "앞다리가 쏘옥\n",
    "뒷다리가 쑤욱\n",
    "팔딱팔딱 메뚜기됬네\"\"\"\n",
    "print(memo)"
   ]
  },
  {
   "cell_type": "code",
   "execution_count": null,
   "id": "d5b06982",
   "metadata": {},
   "outputs": [],
   "source": [
    "# 문자열의 인덱싱과 슬라이싱\n",
    "# 인덱싱   => 문자열에서 특정 위치(인덱스)의 문자 1개를 얻어온다.\n",
    "# 슬라이싱 => 문자열에서 지정된 범위의 문자열을 얻어온다. => 여러개를 얻어온다."
   ]
  },
  {
   "cell_type": "code",
   "execution_count": null,
   "id": "178d20a3",
   "metadata": {},
   "outputs": [],
   "source": [
    "# 문자열 인덱싱\n",
    "string = 'We are the champions, My friends!'\n",
    "print(string[0])\n",
    "print(type(string[0]))\n",
    "print(string[11])\n",
    "print(string[32])\n",
    "# 파이썬은 음수 인덱싱이 가능하다. 인덱스에 '-'를 붙여주면 맨 뒤 부터 인덱싱을 할 수 있다.\n",
    "print(string[-1])"
   ]
  },
  {
   "cell_type": "code",
   "execution_count": 4,
   "id": "c8ce18e2",
   "metadata": {},
   "outputs": [
    {
     "name": "stdout",
     "output_type": "stream",
     "text": [
      "W\n",
      "champions\n",
      "We are the champions\n",
      "We are the champions\n",
      "My friends!\n",
      "My friends!\n",
      "We are the champions, My friends!\n",
      "W r h hmin\n",
      "!sdneirf yM ,snoipmahc eht era eW\n"
     ]
    }
   ],
   "source": [
    "# 문자열 슬라이싱\n",
    "# 슬라이싱 범위는 [시작인덱스:끝인덱스] 형태로 지정하며 시작 인덱스 부터 끝 인덱스 - 1 번째 문자까지 얻어온다.\n",
    "string = 'We are the champions, My friends!'\n",
    "print(string[0:1])\n",
    "print(string[11:20])\n",
    "# 시작 인덱스를 생략하면 맨 처음 부터 슬라이싱을 시작하고 끝 인덱스를 생략하면 맨 마지막 까지 슬라이싱 한다.\n",
    "print(string[0:20])\n",
    "print(string[:20])\n",
    "print(string[22:33])\n",
    "print(string[22:])\n",
    "print(string[:])\n",
    "# [시작인덱스:끝인덱스:증가치] 에서 증가치는 생략할 수 있고 생략시 1이 기본값으로 사용된다.\n",
    "print(string[0:20:2]) # \"0\"번째 인덱스부터 \"20\"번째 인덱스까지 출력하는데 \"2\"칸 간격으로 출력한다.\n",
    "print(string[::-1])"
   ]
  },
  {
   "cell_type": "code",
   "execution_count": null,
   "id": "e4677ae2",
   "metadata": {},
   "outputs": [],
   "source": []
  },
  {
   "cell_type": "code",
   "execution_count": null,
   "id": "ec516722",
   "metadata": {},
   "outputs": [],
   "source": []
  },
  {
   "cell_type": "code",
   "execution_count": null,
   "id": "e492e09b",
   "metadata": {},
   "outputs": [],
   "source": []
  },
  {
   "cell_type": "code",
   "execution_count": null,
   "id": "39b54825",
   "metadata": {},
   "outputs": [],
   "source": []
  },
  {
   "cell_type": "code",
   "execution_count": null,
   "id": "6eada0be",
   "metadata": {},
   "outputs": [],
   "source": []
  },
  {
   "cell_type": "code",
   "execution_count": null,
   "id": "af3b74d8",
   "metadata": {},
   "outputs": [],
   "source": []
  },
  {
   "cell_type": "code",
   "execution_count": null,
   "id": "a5c3e273",
   "metadata": {},
   "outputs": [],
   "source": []
  }
 ],
 "metadata": {
  "kernelspec": {
   "display_name": "Python 3",
   "language": "python",
   "name": "python3"
  },
  "language_info": {
   "codemirror_mode": {
    "name": "ipython",
    "version": 3
   },
   "file_extension": ".py",
   "mimetype": "text/x-python",
   "name": "python",
   "nbconvert_exporter": "python",
   "pygments_lexer": "ipython3",
   "version": "3.9.5"
  }
 },
 "nbformat": 4,
 "nbformat_minor": 5
}
