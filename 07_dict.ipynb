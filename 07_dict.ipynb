{
 "cells": [
  {
   "cell_type": "code",
   "execution_count": 1,
   "id": "053431a3",
   "metadata": {},
   "outputs": [],
   "source": [
    "# 딕셔너리 만들기\n",
    "# key와 value가 1:1로 대응 관계를 가지는 자료형으로 key와 key에 할당되는 데이터(value)가 한 쌍이 되는 자료형이다.\n",
    "# {key: value, key: value, ...}와 같은 형태를 가지는 자료형이다. => javascript의 json이라는 자료형과 모양이 똑같다.\n",
    "# key는 일반적으로 string 형태로 만들어 사용하고 value는 딕셔너리에 저장할 데이터를 입력한다."
   ]
  },
  {
   "cell_type": "code",
   "execution_count": 4,
   "id": "b09a1def",
   "metadata": {},
   "outputs": [
    {
     "name": "stdout",
     "output_type": "stream",
     "text": [
      "{}\n",
      "<class 'dict'>\n",
      "{}\n",
      "<class 'dict'>\n"
     ]
    }
   ],
   "source": [
    "# 빈 딕셔너리 만들기\n",
    "a = {}\n",
    "print(a)\n",
    "print(type(a))\n",
    "# 생성자 함수를 사용해서 빈 딕셔너리를 만들 수 있다.\n",
    "b = dict()\n",
    "print(b)\n",
    "print(type(b))"
   ]
  },
  {
   "cell_type": "code",
   "execution_count": 5,
   "id": "bc13f6df",
   "metadata": {},
   "outputs": [
    {
     "name": "stdout",
     "output_type": "stream",
     "text": [
      "{'name': '홍길동', 'phone': '010-1234-5678', 'age': 20}\n",
      "<class 'dict'>\n"
     ]
    }
   ],
   "source": [
    "a = {'name': '홍길동', 'phone': '010-1234-5678', 'age': 20}\n",
    "print(a)\n",
    "print(type(a))"
   ]
  },
  {
   "cell_type": "code",
   "execution_count": 6,
   "id": "905f9bf5",
   "metadata": {},
   "outputs": [
    {
     "name": "stdout",
     "output_type": "stream",
     "text": [
      "{'name': '홍길동', 'phone': '010-1234-5678', 'age': 20, 'gender': '남자'}\n",
      "{'name': '홍길동', 'phone': '010-1234-5678', 'age': 20, 'gender': '여자'}\n"
     ]
    }
   ],
   "source": [
    "# 딕셔너리에 데이터 추가 및 수정하기\n",
    "# 존재하지 않는 key에 데이터를 할당하면 데이터가 추가되고 존재하는 key에 데이터를 할당하면 수정된다.\n",
    "# 딕셔너리이름[key] = value\n",
    "a['gender'] = '남자' # 추가\n",
    "print(a)\n",
    "a['gender'] = '여자' # 수정\n",
    "print(a)"
   ]
  },
  {
   "cell_type": "code",
   "execution_count": 7,
   "id": "f1a9b1d4",
   "metadata": {},
   "outputs": [
    {
     "name": "stdout",
     "output_type": "stream",
     "text": [
      "홍길동\n",
      "010-1234-5678\n"
     ]
    }
   ],
   "source": [
    "# 딕셔너리에 저장된 데이터 얻어오기\n",
    "# 1. 딕셔너리이름[key]\n",
    "print(a['name'])\n",
    "# 2. 딕셔너리이름.get(key)\n",
    "print(a.get('phone'))"
   ]
  },
  {
   "cell_type": "code",
   "execution_count": 8,
   "id": "5bce9cd7",
   "metadata": {},
   "outputs": [
    {
     "name": "stdout",
     "output_type": "stream",
     "text": [
      "{'name': '홍길동', 'phone': '010-1234-5678', 'age': 20}\n",
      "{'name': '홍길동', 'phone': '010-1234-5678'}\n"
     ]
    }
   ],
   "source": [
    "# 딕셔너리에 저장된 데이터 삭제하기\n",
    "# 1. del(딕셔너리이름[key])\n",
    "del(a['gender'])\n",
    "print(a)\n",
    "# 2. del 딕셔너리이름[key]\n",
    "del a['age']\n",
    "print(a)"
   ]
  },
  {
   "cell_type": "code",
   "execution_count": 9,
   "id": "1fc04b1b",
   "metadata": {},
   "outputs": [
    {
     "name": "stdout",
     "output_type": "stream",
     "text": [
      "{}\n"
     ]
    }
   ],
   "source": [
    "# 딕셔너리에 저장된 모든 데이터 삭제하기\n",
    "# 딕셔너리이름.clear()\n",
    "a.clear()\n",
    "print(a)"
   ]
  },
  {
   "cell_type": "code",
   "execution_count": 10,
   "id": "01a420db",
   "metadata": {},
   "outputs": [
    {
     "ename": "NameError",
     "evalue": "name 'a' is not defined",
     "output_type": "error",
     "traceback": [
      "\u001b[1;31m---------------------------------------------------------------------------\u001b[0m",
      "\u001b[1;31mNameError\u001b[0m                                 Traceback (most recent call last)",
      "\u001b[1;32m<ipython-input-10-ff484a820715>\u001b[0m in \u001b[0;36m<module>\u001b[1;34m\u001b[0m\n\u001b[0;32m      1\u001b[0m \u001b[1;31m# del 명령을 사용하면 딕셔너리 자체를 제거할 수 있다.\u001b[0m\u001b[1;33m\u001b[0m\u001b[1;33m\u001b[0m\u001b[1;33m\u001b[0m\u001b[0m\n\u001b[0;32m      2\u001b[0m \u001b[1;32mdel\u001b[0m \u001b[0ma\u001b[0m\u001b[1;33m\u001b[0m\u001b[1;33m\u001b[0m\u001b[0m\n\u001b[1;32m----> 3\u001b[1;33m \u001b[0mprint\u001b[0m\u001b[1;33m(\u001b[0m\u001b[0ma\u001b[0m\u001b[1;33m)\u001b[0m\u001b[1;33m\u001b[0m\u001b[1;33m\u001b[0m\u001b[0m\n\u001b[0m",
      "\u001b[1;31mNameError\u001b[0m: name 'a' is not defined"
     ]
    }
   ],
   "source": [
    "# del 명령을 사용하면 딕셔너리 자체를 제거할 수 있다.\n",
    "del a\n",
    "print(a)"
   ]
  },
  {
   "cell_type": "code",
   "execution_count": 11,
   "id": "b94731f1",
   "metadata": {},
   "outputs": [
    {
     "name": "stdout",
     "output_type": "stream",
     "text": [
      "dict_keys(['name', 'phone', 'age'])\n",
      "dict_values(['홍길동', '010-1234-5678', 20])\n",
      "dict_items([('name', '홍길동'), ('phone', '010-1234-5678'), ('age', 20)])\n"
     ]
    }
   ],
   "source": [
    "a = {'name': '홍길동', 'phone': '010-1234-5678', 'age': 20}\n",
    "# keys() 메소드는 딕셔너리에서 key 목록만 얻어온다.\n",
    "print(a.keys())\n",
    "# values() 메소드는 딕셔너리에서 value 목록만 얻어온다.\n",
    "print(a.values())\n",
    "# items() 메소드는 딕셔너리에서 key와 value를 한 쌍으로 묶은 튜플을 얻어온다.\n",
    "print(a.items())"
   ]
  },
  {
   "cell_type": "code",
   "execution_count": null,
   "id": "38394f6b",
   "metadata": {},
   "outputs": [],
   "source": []
  },
  {
   "cell_type": "code",
   "execution_count": null,
   "id": "451f5fc1",
   "metadata": {},
   "outputs": [],
   "source": []
  }
 ],
 "metadata": {
  "kernelspec": {
   "display_name": "Python 3",
   "language": "python",
   "name": "python3"
  },
  "language_info": {
   "codemirror_mode": {
    "name": "ipython",
    "version": 3
   },
   "file_extension": ".py",
   "mimetype": "text/x-python",
   "name": "python",
   "nbconvert_exporter": "python",
   "pygments_lexer": "ipython3",
   "version": "3.9.5"
  }
 },
 "nbformat": 4,
 "nbformat_minor": 5
}
