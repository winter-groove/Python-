{
 "cells": [
  {
   "cell_type": "code",
   "execution_count": 6,
   "id": "963a6a05",
   "metadata": {
    "scrolled": false
   },
   "outputs": [
    {
     "name": "stdout",
     "output_type": "stream",
     "text": [
      "나이를 입력하세요 : 30\n",
      "<class 'int'>\n",
      "성인입니다. 어서오세요\n"
     ]
    }
   ],
   "source": [
    "age = int(input('나이를 입력하세요 : '))\n",
    "print(type(age))\n",
    "\n",
    "if age >= 19:\n",
    "    print('성인입니다. 어서오세요')\n",
    "else:\n",
    "    print('청소년 여러분 이제는 집으로 돌아가야 할 시간입니다.')"
   ]
  },
  {
   "cell_type": "code",
   "execution_count": 7,
   "id": "e328213f",
   "metadata": {
    "scrolled": true
   },
   "outputs": [
    {
     "name": "stdout",
     "output_type": "stream",
     "text": [
      "주민등록번호 13자리를 \"-\"없이 입력하세요 : 9201151068717\n",
      "1\n",
      "<class 'str'>\n",
      "남자\n"
     ]
    }
   ],
   "source": [
    "# 성별\n",
    "jumin = input('주민등록번호 13자리를 \"-\"없이 입력하세요 : ')\n",
    "print(jumin[6])\n",
    "print(type(jumin[6]))\n",
    "\n",
    "if jumin[6] == '1':\n",
    "    print('남자')\n",
    "elif jumin[6] == '3':\n",
    "    print('남자')\n",
    "else:\n",
    "    print('여자')\n",
    "    \n",
    "#if int(jumin[6]) == 1:\n",
    "    #print('남자')\n",
    "#else:\n",
    "    #print('여자')"
   ]
  },
  {
   "cell_type": "code",
   "execution_count": 11,
   "id": "824acbf8",
   "metadata": {},
   "outputs": [
    {
     "name": "stdout",
     "output_type": "stream",
     "text": [
      "주민등록번호 13자리를 \"-\"없이 입력하세요 : 9201151068717\n",
      "1992\n",
      "당신의 출생년도는 1992년 이고 만 29살 입니다.\n",
      "당신의 출생년도는 1992년 이고 만 29살 입니다.\n"
     ]
    }
   ],
   "source": [
    "# 나이\n",
    "jumin = input('주민등록번호 13자리를 \"-\"없이 입력하세요 : ')\n",
    "# print(jumin[0:2])\n",
    "# print(jumin[:2])\n",
    "year = int(jumin[:2])\n",
    "# print(type(year))\n",
    "\n",
    "if jumin[6] <= '2':\n",
    "    year = year + 1900\n",
    "else:\n",
    "    year = year + 2000\n",
    "    \n",
    "print(year)\n",
    "\n",
    "print('당신의 출생년도는 {}년 이고 만 {}살 입니다.'.format(year, 2021 - year))\n",
    "\n",
    "from datetime import datetime as dt\n",
    "now = dt.now()\n",
    "print('당신의 출생년도는 {}년 이고 만 {}살 입니다.'.format(year, now.year - year))"
   ]
  },
  {
   "cell_type": "code",
   "execution_count": null,
   "id": "57de720f",
   "metadata": {},
   "outputs": [],
   "source": []
  },
  {
   "cell_type": "code",
   "execution_count": null,
   "id": "117cae87",
   "metadata": {},
   "outputs": [],
   "source": []
  },
  {
   "cell_type": "code",
   "execution_count": null,
   "id": "12b904d7",
   "metadata": {},
   "outputs": [],
   "source": []
  },
  {
   "cell_type": "code",
   "execution_count": null,
   "id": "d3c4d3ab",
   "metadata": {},
   "outputs": [],
   "source": []
  },
  {
   "cell_type": "code",
   "execution_count": null,
   "id": "f6f5fdcc",
   "metadata": {},
   "outputs": [],
   "source": []
  },
  {
   "cell_type": "code",
   "execution_count": null,
   "id": "2d236b45",
   "metadata": {},
   "outputs": [],
   "source": []
  },
  {
   "cell_type": "code",
   "execution_count": null,
   "id": "610d68e1",
   "metadata": {},
   "outputs": [],
   "source": []
  },
  {
   "cell_type": "code",
   "execution_count": null,
   "id": "be0bc4d4",
   "metadata": {},
   "outputs": [],
   "source": []
  },
  {
   "cell_type": "code",
   "execution_count": null,
   "id": "0bd45629",
   "metadata": {},
   "outputs": [],
   "source": []
  },
  {
   "cell_type": "code",
   "execution_count": null,
   "id": "d46855bc",
   "metadata": {},
   "outputs": [],
   "source": []
  },
  {
   "cell_type": "code",
   "execution_count": null,
   "id": "4604c117",
   "metadata": {},
   "outputs": [],
   "source": []
  },
  {
   "cell_type": "code",
   "execution_count": null,
   "id": "a64e8b03",
   "metadata": {},
   "outputs": [],
   "source": []
  },
  {
   "cell_type": "code",
   "execution_count": null,
   "id": "768081db",
   "metadata": {},
   "outputs": [],
   "source": []
  }
 ],
 "metadata": {
  "kernelspec": {
   "display_name": "Python 3",
   "language": "python",
   "name": "python3"
  },
  "language_info": {
   "codemirror_mode": {
    "name": "ipython",
    "version": 3
   },
   "file_extension": ".py",
   "mimetype": "text/x-python",
   "name": "python",
   "nbconvert_exporter": "python",
   "pygments_lexer": "ipython3",
   "version": "3.9.5"
  }
 },
 "nbformat": 4,
 "nbformat_minor": 5
}
