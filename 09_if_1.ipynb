{
 "cells": [
  {
   "cell_type": "code",
   "execution_count": 2,
   "id": "d561d181",
   "metadata": {},
   "outputs": [],
   "source": [
    "# 관계(비교) 연산자 => 연산 결과는 무조건 참(True) 또는 거짓(False)이다.\n",
    "# > : 크다, 초과\n",
    "# >= : 크거나 같다, 이상\n",
    "# < : 작다, 미만\n",
    "# <= : 작거나 같다, 이하\n",
    "# == : 같다\n",
    "# != : 같지 않다\n",
    "\n",
    "# 논리 연산자 => 연산 결과는 무조건 참(True) 또는 거짓(False)이다.\n",
    "# and : 논리곱, 두 조건이 모두 참일 경우에만 참, ~이고, ~이면서, ~중에서\n",
    "# or : 논리합, 두 조건 중에서 하나이상 참일 경우에 참, ~또는, ~이거나\n",
    "# not : 논리 부정\n"
   ]
  },
  {
   "cell_type": "code",
   "execution_count": 3,
   "id": "0e9d9f59",
   "metadata": {},
   "outputs": [],
   "source": [
    "# 산술 연산자(** => *, /, //, % => +,-) => 관계 연산자 => 논리 연산자(not => and => or)"
   ]
  },
  {
   "cell_type": "code",
   "execution_count": 15,
   "id": "c402e726",
   "metadata": {},
   "outputs": [
    {
     "name": "stdout",
     "output_type": "stream",
     "text": [
      "나이를 입력하세요 : 20\n",
      "<class 'int'>\n",
      "성인입니다. 어서오세요.\n"
     ]
    }
   ],
   "source": [
    "age = int(input(\"나이를 입력하세요 : \"))\n",
    "print(type(age))\n",
    "\n",
    "if age >= 19:\n",
    "    print(\"성인입니다. 어서오세요.\")\n",
    "else:\n",
    "    print(\"미성년자 저리가랏!\")"
   ]
  },
  {
   "cell_type": "code",
   "execution_count": 19,
   "id": "9ef03783",
   "metadata": {},
   "outputs": [
    {
     "name": "stdout",
     "output_type": "stream",
     "text": [
      "주민등록번호 13자리를 \"-\" 없이 입력하세요 : 9201153068717\n",
      "<class 'str'>\n",
      "남자입니다.\n",
      "남자\n",
      "남자\n",
      "남자\n",
      "남자\n"
     ]
    }
   ],
   "source": [
    "# 성별\n",
    "jumin = input(\"주민등록번호 13자리를 \\\"-\\\" 없이 입력하세요 : \")\n",
    "print(type(jumin))\n",
    "\n",
    "\n",
    "if jumin[6] == \"1\" or jumin[6] == \"3\" or jumin[6] == \"5\":\n",
    "    print(\"남자입니다.\")\n",
    "elif jumin[6] == \"2\" or jumin[6] == \"4\" or jumin[6] == \"6\":\n",
    "    print(\"여자입니다.\")\n",
    "else:\n",
    "    print(\"잘못된 주민등록번호를 입력하셨습니다.\")\n",
    "#################################################################\n",
    "if jumin[6] in [\"1\", \"3\", \"5\"]:\n",
    "    print(\"남자\")\n",
    "else:\n",
    "    print(\"여자\")\n",
    "    \n",
    "if int(jumin[6]) in [1, 3, 5]:\n",
    "    print(\"남자\")\n",
    "else:\n",
    "    print(\"여자\")\n",
    "    \n",
    "    ####################\n",
    "# str() 함수는 인수로 지정한 숫자를 문자열로 변환한다.\n",
    "if jumin[6] == str(1) or jumin[6] == str(3) or jumin[6] == str(5):\n",
    "    print(\"남자\")\n",
    "else:\n",
    "    print(\"여자\")\n",
    "    \n",
    "    \n",
    "\n",
    "\n",
    "if int(jumin[6]) % 2 == 1:\n",
    "    print(\"남자\")\n",
    "else:\n",
    "    print(\"여자\")"
   ]
  },
  {
   "cell_type": "code",
   "execution_count": 22,
   "id": "4a700712",
   "metadata": {},
   "outputs": [
    {
     "name": "stdout",
     "output_type": "stream",
     "text": [
      "주민등록번호 13자리를 \"-\" 없이 입력하세요 : 9201151068717\n",
      "1992\n",
      "당신의 출생년도는 1992년 이고 만 29살 입니다.\n"
     ]
    }
   ],
   "source": [
    "#나이\n",
    "jumin = input(\"주민등록번호 13자리를 \\\"-\\\" 없이 입력하세요 : \")\n",
    "#print(jumin[:2]) \n",
    "year = int(jumin[:2])\n",
    "#print(year)\n",
    "\n",
    "'''\n",
    "if jumin[6] <= \"2\":\n",
    "    year += 1900\n",
    "else:\n",
    "    # \"=\" 과 같이 사용하는 연산자를 대입 연산자라 부른다. => 연산 우선순위가 가장 늦다. => +=, -=, *=, /=, //=, %=\n",
    "    year += 2000\n",
    "'''\n",
    "# if 명령의 조건 비교 결과 참 또는 거짓일 때 실행할 문장이 각각 1문장 씩일 경우 삼항 연산자를 사용해서 처리할 수 있다.\n",
    "# 삼항 연산자의 형식\n",
    "# 조건이 참일 때 실행할 문장 if 조건식 else 조건이 거짓일 경우 실행할 문장\n",
    "year += 1900 if jumin[6] <= \"2\" else 2000\n",
    "\n",
    "\n",
    "print(year)\n",
    "#print(\"당신의 출생년도는 {0}년 이고 만 {1}살 입니다.\".format(year, 2021 - year))\n",
    "\n",
    "from datetime import datetime as dt\n",
    "now = dt.now()\n",
    "print(\"당신의 출생년도는 {0}년 이고 만 {1}살 입니다.\".format(year, now.year - year))\n"
   ]
  },
  {
   "cell_type": "code",
   "execution_count": 50,
   "id": "9fa5cc38",
   "metadata": {},
   "outputs": [
    {
     "name": "stdout",
     "output_type": "stream",
     "text": [
      "3과목 점수를 입력하세요 : 60 67 82\n",
      "총점: 209, 평균: 69.67\n",
      "평균: 69.67, 등급: D\n"
     ]
    }
   ],
   "source": [
    "# 3과목 점수를 한 번에 입력받아서 평균을 계산한 후 A, B, C, D, F 를 출력한다.\n",
    "sub1, sub2, sub3 = map(int, input(\"3과목 점수를 입력하세요 : \").split())\n",
    "# print('총점 :{}'.format(sub1 + sub2 + sub3))\n",
    "# print(type(sub1 + sub2 + sub3))\n",
    "total = sub1 + sub2 + sub3\n",
    "total_mean = total / 3\n",
    "print(\"총점: {0}, 평균: {1}\".format(total, round(total_mean, 2)))\n",
    "\n",
    "if total_mean >= 90:\n",
    "    print(\"평균: {0}, 등급: A\".format(round(total_mean, 2)))\n",
    "# 파이썬은 아래와 같이 비교하는 것을 허용하지만 다른 언어들은 허용하지 않는다.\n",
    "# if 80 <= total_mean < 90:\n",
    "\n",
    "if total_mean < 90 and total_mean >= 80:\n",
    "    print(\"평균: {0}, 등급: B\".format(round(total_mean, 2)))\n",
    "if total_mean < 80 and total_mean >= 70:\n",
    "    print(\"평균: {0}, 등급: C\".format(round(total_mean, 2)))\n",
    "if total_mean < 70 and total_mean >= 60:\n",
    "    print(\"평균: {0}, 등급: D\".format(round(total_mean, 2)))\n",
    "else:\n",
    "    print(\"평균: {0}, 등급: F\".format(round(total_mean, 2)))"
   ]
  },
  {
   "cell_type": "code",
   "execution_count": null,
   "id": "5980108f",
   "metadata": {},
   "outputs": [],
   "source": [
    "# 1차 수정\n",
    "sub1, sub2, sub3 = map(int, input(\"3과목 점수를 입력하세요 : \").split())\n",
    "\n",
    "total = sub1 + sub2 + sub3\n",
    "total_mean = total / 3\n",
    "print(\"총점: {0}, 평균: {1}\".format(total, round(total_mean, 2)))\n",
    "\n",
    "if total_mean >= 90:\n",
    "    print(\"평균: {0}, 등급: A\".format(round(total_mean, 2)))\n",
    "elif total_mean < 90 and total_mean >= 80:\n",
    "    print(\"평균: {0}, 등급: B\".format(round(total_mean, 2)))\n",
    "elif total_mean < 80 and total_mean >= 70:\n",
    "    print(\"평균: {0}, 등급: C\".format(round(total_mean, 2)))\n",
    "elif total_mean < 70 and total_mean >= 60:\n",
    "    print(\"평균: {0}, 등급: D\".format(round(total_mean, 2)))\n",
    "else:\n",
    "    print(\"평균: {0}, 등급: F\".format(round(total_mean, 2)))"
   ]
  },
  {
   "cell_type": "code",
   "execution_count": 51,
   "id": "badf1e78",
   "metadata": {},
   "outputs": [
    {
     "name": "stdout",
     "output_type": "stream",
     "text": [
      "3과목 점수를 입력하세요 : 85 75 92\n",
      "총점: 252, 평균: 84.0\n",
      "평균: 84.0, 등급: B\n"
     ]
    }
   ],
   "source": [
    "# 2차 수정\n",
    "sub1, sub2, sub3 = map(int, input(\"3과목 점수를 입력하세요 : \").split())\n",
    "\n",
    "total = sub1 + sub2 + sub3\n",
    "total_mean = total / 3\n",
    "print(\"총점: {0}, 평균: {1}\".format(total, round(total_mean, 2)))\n",
    "\n",
    "if total_mean >= 90:\n",
    "    print(\"평균: {0}, 등급: A\".format(round(total_mean, 2)))\n",
    "elif total_mean >= 80:\n",
    "    print(\"평균: {0}, 등급: B\".format(round(total_mean, 2)))\n",
    "elif total_mean >= 70:\n",
    "    print(\"평균: {0}, 등급: C\".format(round(total_mean, 2)))\n",
    "elif total_mean >= 60:\n",
    "    print(\"평균: {0}, 등급: D\".format(round(total_mean, 2)))\n",
    "else:\n",
    "    print(\"평균: {0}, 등급: F\".format(round(total_mean, 2)))"
   ]
  },
  {
   "cell_type": "code",
   "execution_count": 69,
   "id": "bcd1098b",
   "metadata": {},
   "outputs": [
    {
     "name": "stdout",
     "output_type": "stream",
     "text": [
      "윤년, 평년을 판별할 년도를 입력하세요. : 2020\n",
      "2020년은 윤년입니다.\n",
      "2020년은 윤년입니다.\n"
     ]
    }
   ],
   "source": [
    "# 윤년, 평년 판별식\n",
    "# 년도가 4로 나눠 떨어지고 100으로 나눠 떨어지지 않거나 400으로 나눠 떨어지면 윤년, 그렇지 않으면 평년\n",
    "year = int(input(\"윤년, 평년을 판별할 년도를 입력하세요. : \"))\n",
    "\n",
    "# 단항 연산자 => 이항 연산자 => 삼항 연산자 => 대입 연산자\n",
    "# 이항 연산자 : () => ** => *, /, //, % => +, - => 관계 연산자 => 논리 연산자(not => and => or)\n",
    "\n",
    "# 프로그램에서 여러 번 사용되는 상수나 연산식의 결과는 변수에 저장시켜 사용하면 관리(유지보수)가 편리해진다.\n",
    "# 논리값을 기억하는 변수나 리턴값은 논리값인 함수의 이름은 \"is\"로 시작하는 것이 관행이다.\n",
    "\n",
    "isLeapYear = year % 4 == 0 and year % 100 != 0 or year % 400 == 0\n",
    "\n",
    "if isLeapYear:\n",
    "    print(\"{}년은 윤년입니다.\".format(year))\n",
    "else:\n",
    "    print(\"{}년은 평년입니다.\".format(year))\n",
    "\n",
    "# print(\"{}년은 윤년입니다.\".format(year) if year % 4 == 0 and year % 100 != 0 or year % 400 == 0 else \"{}년은 평년입니다.\".format(year) )\n",
    "\n",
    "print(\"{}년은 {}년입니다.\".format(year, \"윤\" if isLeapYear else \"평\"))"
   ]
  },
  {
   "cell_type": "code",
   "execution_count": 24,
   "id": "15b979d8",
   "metadata": {},
   "outputs": [
    {
     "name": "stdout",
     "output_type": "stream",
     "text": [
      "가위(1), 바위(2), 보(3) : 2\n",
      "Draw\n"
     ]
    }
   ],
   "source": [
    "# 가위(1), 바위(2), 보(3)\n",
    "# 컴퓨터가 랜덤하게 뽑아낸 가위, 바위, 보와 사용자가 입력한 가위, 바위, 보를 비교한다.\n",
    "\n",
    "# 난수를 발생시키기 위해서 random 모듈을 import 시킨다.\n",
    "import random\n",
    "\n",
    "# 난수 발생은 randrange(a, b) 메소드를 사용하고 a 부터 b - 1 사이의 난수를 정수로 발생시킨다.\n",
    "# 난수를 실수로 발생시키고 싶다면 random() 메소드를 사용하면 된다. => 0 이상이고 1미만인 난수를 실수로 발생시킨다.\n",
    "# print(random.random()) # 난수를 실수로 발생\n",
    "#print(random.randrange(1, 4))\n",
    "\n",
    "cpu = random.randrange(1, 4)\n",
    "# print(\"cpu: {}\".format(cpu))\n",
    "\n",
    "user = int(input(\"가위(1), 바위(2), 보(3) : \"))\n",
    "# print(\"user: {}\".format(user))\n",
    "\n",
    "# 승리 조건 => cpu == 1 이고 user == 2 또는 cpu == 2 이고 user == 3 또는 cpu == 3 이고 user == 1\n",
    "# 패배 조건 => cpu == 1 이고 user == 3 또는 cpu == 2 이고 user == 1 또는 cpu == 3 이고 user == 2\n",
    "# 승리 조건과 패배 조건을 모두 만족하지 않으면 비김 조건이 된다.\n",
    "\n",
    "if cpu == 1 and user == 2 or cpu == 2 and user == 3 or cpu == 3 and user == 1:\n",
    "    print(\"Win\")\n",
    "elif cpu == 1 and user == 3 or cpu == 2 and user == 1 or cpu ==3 and user == 2:\n",
    "    print(\"Lose\")\n",
    "else:\n",
    "    print(\"Draw\")"
   ]
  },
  {
   "cell_type": "code",
   "execution_count": null,
   "id": "a3c7c5f1",
   "metadata": {},
   "outputs": [],
   "source": []
  },
  {
   "cell_type": "code",
   "execution_count": null,
   "id": "755deb4f",
   "metadata": {},
   "outputs": [],
   "source": []
  },
  {
   "cell_type": "code",
   "execution_count": null,
   "id": "3af840e4",
   "metadata": {},
   "outputs": [],
   "source": []
  },
  {
   "cell_type": "code",
   "execution_count": null,
   "id": "4fd0007d",
   "metadata": {},
   "outputs": [],
   "source": []
  },
  {
   "cell_type": "code",
   "execution_count": null,
   "id": "0fd24b7d",
   "metadata": {},
   "outputs": [],
   "source": []
  },
  {
   "cell_type": "code",
   "execution_count": null,
   "id": "8517d04d",
   "metadata": {},
   "outputs": [],
   "source": []
  },
  {
   "cell_type": "code",
   "execution_count": null,
   "id": "3cba3dea",
   "metadata": {},
   "outputs": [],
   "source": []
  },
  {
   "cell_type": "code",
   "execution_count": null,
   "id": "ebdcdd53",
   "metadata": {},
   "outputs": [],
   "source": []
  },
  {
   "cell_type": "code",
   "execution_count": null,
   "id": "7b79950e",
   "metadata": {},
   "outputs": [],
   "source": []
  },
  {
   "cell_type": "code",
   "execution_count": null,
   "id": "23301871",
   "metadata": {},
   "outputs": [],
   "source": []
  },
  {
   "cell_type": "code",
   "execution_count": null,
   "id": "acc53569",
   "metadata": {},
   "outputs": [],
   "source": []
  }
 ],
 "metadata": {
  "kernelspec": {
   "display_name": "Python 3",
   "language": "python",
   "name": "python3"
  },
  "language_info": {
   "codemirror_mode": {
    "name": "ipython",
    "version": 3
   },
   "file_extension": ".py",
   "mimetype": "text/x-python",
   "name": "python",
   "nbconvert_exporter": "python",
   "pygments_lexer": "ipython3",
   "version": "3.9.5"
  }
 },
 "nbformat": 4,
 "nbformat_minor": 5
}
