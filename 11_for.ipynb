{
 "cells": [
  {
   "cell_type": "code",
   "execution_count": 2,
   "id": "c842308d",
   "metadata": {},
   "outputs": [
    {
     "name": "stdout",
     "output_type": "stream",
     "text": [
      "range(0, 10)\n",
      "[0, 1, 2, 3, 4, 5, 6, 7, 8, 9]\n",
      "[0, 1, 2, 3, 4, 5, 6, 7, 8, 9]\n"
     ]
    }
   ],
   "source": [
    "# range() 함수는 초기치 부터 증가치 만큼씩 증가하면서 최종치를 넘어가지 않는 숫자 리스트를 만들어 리턴시킨다.\n",
    "print(range(0, 10, 1))\n",
    "# range() 함수가 만들어 리턴하는 리스트를 확인하려면 list()를 실행해서 리스트 형태로 바꿔야 한다.\n",
    "a = list(range(0, 10, 1))\n",
    "print(a)\n",
    "b = list(range(10))\n",
    "print(b)"
   ]
  },
  {
   "cell_type": "code",
   "execution_count": 3,
   "id": "cc618d14",
   "metadata": {},
   "outputs": [
    {
     "name": "stdout",
     "output_type": "stream",
     "text": [
      "0\n",
      "1\n",
      "2\n",
      "3\n",
      "4\n"
     ]
    }
   ],
   "source": [
    "# range() 함수가 만들어주는 숫자 리스트의 값이 0번째 인덱스의 값 부터 마지막 인덱스의 값 까지 차례차례 변수에 저장되며\n",
    "# 반복한다.\n",
    "for i in [0, 1, 2, 3, 4]:\n",
    "    print(i)"
   ]
  },
  {
   "cell_type": "code",
   "execution_count": 4,
   "id": "87c49261",
   "metadata": {},
   "outputs": [
    {
     "name": "stdout",
     "output_type": "stream",
     "text": [
      "55\n"
     ]
    }
   ],
   "source": [
    "# 1 ~ 10의 합계\n",
    "total = 0 # 변수가 최초로 사용되기 전에 반드시 초기화가 되어야 한다.\n",
    "for i in range(1, 11, 1):\n",
    "    # total = total + i\n",
    "    total += i\n",
    "# =====\n",
    "print(total)"
   ]
  },
  {
   "cell_type": "code",
   "execution_count": 6,
   "id": "3b96aa24",
   "metadata": {},
   "outputs": [
    {
     "name": "stdout",
     "output_type": "stream",
     "text": [
      " 1번째 주사위가 데구르르~~~~ 굴러서 4이 나왔습니다.\n",
      " 2번째 주사위가 데구르르~~~~ 굴러서 5이 나왔습니다.\n",
      " 3번째 주사위가 데구르르~~~~ 굴러서 5이 나왔습니다.\n",
      " 4번째 주사위가 데구르르~~~~ 굴러서 5이 나왔습니다.\n",
      " 5번째 주사위가 데구르르~~~~ 굴러서 5이 나왔습니다.\n",
      " 6번째 주사위가 데구르르~~~~ 굴러서 3이 나왔습니다.\n",
      " 7번째 주사위가 데구르르~~~~ 굴러서 5이 나왔습니다.\n",
      " 8번째 주사위가 데구르르~~~~ 굴러서 3이 나왔습니다.\n",
      " 9번째 주사위가 데구르르~~~~ 굴러서 2이 나왔습니다.\n",
      "10번째 주사위가 데구르르~~~~ 굴러서 4이 나왔습니다.\n",
      "1의 개수: 0\n",
      "2의 개수: 1\n",
      "3의 개수: 2\n",
      "4의 개수: 2\n",
      "5의 개수: 5\n",
      "6의 개수: 0\n"
     ]
    }
   ],
   "source": [
    "# 1 ~ 6의 눈의 개수를 기억할 변수를 선언한다.\n",
    "# 파이썬은 원칙적으로 1줄에 1문장을 코딩해야 하지만 1줄에 여러 문장을 코딩하고 싶다면 문장과 문장을 ';'로 구분한다.\n",
    "# 1문장이 너무 길어서 1줄에 다 적을 수 없을 경우 줄이 변경될 부분에 '\\'을 입력하고 다음줄에 코딩하면 같은 문장으로 인식된다.\n",
    "import random\n",
    "num1 = 0; num2 = 0; num3 = 0; num4 = 0; num5 = 0; num6 = 0\n",
    "\n",
    "for i in range(10):\n",
    "    r = random.randrange(1, 7)\n",
    "    print('{0:2d}번째 주사위가 데구르르~~~~ 굴러서 {1}이 나왔습니다.'.format(i + 1, r))\n",
    "    # 주사위 눈의 개수를 센다.\n",
    "    if r == 1:\n",
    "        num1 += 1\n",
    "    elif r == 2:\n",
    "        num2 += 1\n",
    "    elif r == 3:\n",
    "        num3 += 1\n",
    "    elif r == 4:\n",
    "        num4 += 1\n",
    "    elif r == 5:\n",
    "        num5 += 1\n",
    "    else:\n",
    "        num6 += 1\n",
    "# =====\n",
    "\n",
    "print('1의 개수: {}'.format(num1))\n",
    "print('2의 개수: {}'.format(num2))\n",
    "print('3의 개수: {}'.format(num3))\n",
    "print('4의 개수: {}'.format(num4))\n",
    "print('5의 개수: {}'.format(num5))\n",
    "print('6의 개수: {}'.format(num6))"
   ]
  },
  {
   "cell_type": "code",
   "execution_count": 7,
   "id": "f5386141",
   "metadata": {},
   "outputs": [
    {
     "name": "stdout",
     "output_type": "stream",
     "text": [
      " 1번째 주사위가 데구르르~~~~ 굴러서 4이 나왔습니다.\n",
      " 2번째 주사위가 데구르르~~~~ 굴러서 6이 나왔습니다.\n",
      " 3번째 주사위가 데구르르~~~~ 굴러서 3이 나왔습니다.\n",
      " 4번째 주사위가 데구르르~~~~ 굴러서 5이 나왔습니다.\n",
      " 5번째 주사위가 데구르르~~~~ 굴러서 1이 나왔습니다.\n",
      " 6번째 주사위가 데구르르~~~~ 굴러서 4이 나왔습니다.\n",
      " 7번째 주사위가 데구르르~~~~ 굴러서 2이 나왔습니다.\n",
      " 8번째 주사위가 데구르르~~~~ 굴러서 5이 나왔습니다.\n",
      " 9번째 주사위가 데구르르~~~~ 굴러서 3이 나왔습니다.\n",
      "10번째 주사위가 데구르르~~~~ 굴러서 3이 나왔습니다.\n",
      "1의 개수: 1\n",
      "2의 개수: 1\n",
      "3의 개수: 3\n",
      "4의 개수: 2\n",
      "5의 개수: 2\n",
      "6의 개수: 1\n"
     ]
    }
   ],
   "source": [
    "# 1. 1 ~ 6 사이 주사위 눈의 개수를 기억할 0으로 초기화된 리스트를 선언한다.\n",
    "# count = [0, 0, 0, 0, 0, 0]\n",
    "# 2. 빈 리스트를 만들고 0을 6번 추가한다.\n",
    "count = []\n",
    "for i in range(6):\n",
    "    count.append(0)\n",
    "# 3. 0이 6번 반복되는 리스트를 만든다.\n",
    "# count = [0 for i in range(6)]\n",
    "# print(count)\n",
    "\n",
    "for i in range(10):\n",
    "    r = random.randrange(1, 7)\n",
    "    print('{0:2d}번째 주사위가 데구르르~~~~ 굴러서 {1}이 나왔습니다.'.format(i + 1, r))\n",
    "    if r == 1:\n",
    "        count[0] += 1\n",
    "    elif r == 2:\n",
    "        count[1] += 1\n",
    "    elif r == 3:\n",
    "        count[2] += 1\n",
    "    elif r == 4:\n",
    "        count[3] += 1\n",
    "    elif r == 5:\n",
    "        count[4] += 1\n",
    "    else:\n",
    "        count[5] += 1\n",
    "# =====\n",
    "\n",
    "print('1의 개수: {}'.format(count[0]))\n",
    "print('2의 개수: {}'.format(count[1]))\n",
    "print('3의 개수: {}'.format(count[2]))\n",
    "print('4의 개수: {}'.format(count[3]))\n",
    "print('5의 개수: {}'.format(count[4]))\n",
    "print('6의 개수: {}'.format(count[5]))"
   ]
  },
  {
   "cell_type": "code",
   "execution_count": 8,
   "id": "d7f71ab9",
   "metadata": {},
   "outputs": [
    {
     "name": "stdout",
     "output_type": "stream",
     "text": [
      " 1번째 주사위가 데구르르~~~~ 굴러서 3이 나왔습니다.\n",
      " 2번째 주사위가 데구르르~~~~ 굴러서 6이 나왔습니다.\n",
      " 3번째 주사위가 데구르르~~~~ 굴러서 1이 나왔습니다.\n",
      " 4번째 주사위가 데구르르~~~~ 굴러서 1이 나왔습니다.\n",
      " 5번째 주사위가 데구르르~~~~ 굴러서 3이 나왔습니다.\n",
      " 6번째 주사위가 데구르르~~~~ 굴러서 1이 나왔습니다.\n",
      " 7번째 주사위가 데구르르~~~~ 굴러서 6이 나왔습니다.\n",
      " 8번째 주사위가 데구르르~~~~ 굴러서 6이 나왔습니다.\n",
      " 9번째 주사위가 데구르르~~~~ 굴러서 1이 나왔습니다.\n",
      "10번째 주사위가 데구르르~~~~ 굴러서 6이 나왔습니다.\n",
      "1의 개수: 4\n",
      "2의 개수: 0\n",
      "3의 개수: 2\n",
      "4의 개수: 0\n",
      "5의 개수: 0\n",
      "6의 개수: 4\n"
     ]
    }
   ],
   "source": [
    "count = []\n",
    "for i in range(6):\n",
    "    count.append(0)\n",
    "    \n",
    "for i in range(10):\n",
    "    r = random.randrange(1, 7)\n",
    "    print('{0:2d}번째 주사위가 데구르르~~~~ 굴러서 {1}이 나왔습니다.'.format(i + 1, r))\n",
    "    count[r - 1] += 1\n",
    "# =====\n",
    "\n",
    "for i in range(6):\n",
    "    print('{}의 개수: {}'.format(i + 1, count[i]))"
   ]
  },
  {
   "cell_type": "code",
   "execution_count": 9,
   "id": "a0d7869b",
   "metadata": {},
   "outputs": [
    {
     "name": "stdout",
     "output_type": "stream",
     "text": [
      "['Life', 'is', 'too', 'short']\n",
      "================================================================================\n",
      "Life\n",
      "is\n",
      "too\n",
      "short\n",
      "================================================================================\n",
      "Life\n",
      "is\n",
      "too\n",
      "short\n",
      "================================================================================\n",
      "Life\n",
      "is\n",
      "too\n",
      "short\n",
      "================================================================================\n",
      "is\n",
      "too\n"
     ]
    }
   ],
   "source": [
    "a = ['Life', 'is', 'too', 'short']\n",
    "print(a)\n",
    "print('=' * 80)\n",
    "\n",
    "# 리스트에 저장된 데이터의 개수가 변경되지 않는다면 리스트 크기만큼 반복시키면 된다.\n",
    "for i in range(4):\n",
    "    print(a[i])\n",
    "print('=' * 80)\n",
    "\n",
    "# 리스트에 저장된 데이터의 개수가 변한다면 len() 함수를 이용해서 리스트에 저장된 데이터의 개수를 얻어와 반복시킨다.\n",
    "for i in range(len(a)):\n",
    "    print(a[i])\n",
    "print('=' * 80)\n",
    "\n",
    "# range() 함수 대신 데이터가 저장된 리스트를 사용하면 리스트에 저장된 데이터가 처음부터 차례대로 변수에 대입된다.\n",
    "for i in a:\n",
    "    print(i)\n",
    "print('=' * 80)\n",
    "\n",
    "# range() 함수 대신 데이터가 저장된 리스트를 사용하면 슬라이싱 기능을 이용해서 리스트의 일부분만 반복시킬 수 있다.\n",
    "for i in a[1:3]:\n",
    "    print(i)"
   ]
  },
  {
   "cell_type": "code",
   "execution_count": 10,
   "id": "21ce8a3a",
   "metadata": {},
   "outputs": [
    {
     "name": "stdout",
     "output_type": "stream",
     "text": [
      "('Life', 'is', 'too', 'short')\n",
      "================================================================================\n",
      "Life\n",
      "is\n",
      "too\n",
      "short\n",
      "================================================================================\n",
      "Life\n",
      "is\n",
      "too\n",
      "short\n",
      "================================================================================\n",
      "Life\n",
      "is\n",
      "too\n",
      "short\n",
      "================================================================================\n",
      "is\n",
      "too\n"
     ]
    }
   ],
   "source": [
    "a = 'Life', 'is', 'too', 'short'\n",
    "print(a)\n",
    "print('=' * 80)\n",
    "\n",
    "# 튜플에 저장된 데이터의 개수가 변경되지 않는다면 튜플 크기만큼 반복시키면 된다.\n",
    "for i in range(4):\n",
    "    print(a[i])\n",
    "print('=' * 80)\n",
    "\n",
    "# 튜플에 저장된 데이터의 개수가 변한다면 len() 함수를 이용해서 튜플에 저장된 데이터의 개수를 얻어와 반복시킨다.\n",
    "for i in range(len(a)):\n",
    "    print(a[i])\n",
    "print('=' * 80)\n",
    "\n",
    "# range() 함수 대신 데이터가 저장된 튜플를 사용하면 튜플에 저장된 데이터가 처음부터 차례대로 변수에 대입된다.\n",
    "for i in a:\n",
    "    print(i)\n",
    "print('=' * 80)\n",
    "\n",
    "# range() 함수 대신 데이터가 저장된 튜플를 사용하면 슬라이싱 기능을 이용해서 튜플의 일부분만 반복시킬 수 있다.\n",
    "for i in a[1:3]:\n",
    "    print(i)"
   ]
  },
  {
   "cell_type": "code",
   "execution_count": 11,
   "id": "21348c07",
   "metadata": {},
   "outputs": [
    {
     "name": "stdout",
     "output_type": "stream",
     "text": [
      "{'short', 'too', 'Life', 'is'}\n",
      "================================================================================\n",
      "short\n",
      "too\n",
      "Life\n",
      "is\n",
      "================================================================================\n"
     ]
    },
    {
     "data": {
      "text/plain": [
       "'\\n# range() 함수 대신 데이터가 저장된 set를 사용하면 슬라이싱 기능을 이용해서 set의 일부분만 반복시킬 수 있다.\\nfor i in a[1:3]: # set은 슬라이싱을 지원하지 않기 때문에 에러가 발생된다.\\n    print(i)\\n'"
      ]
     },
     "execution_count": 11,
     "metadata": {},
     "output_type": "execute_result"
    }
   ],
   "source": [
    "a = {'Life', 'is', 'too', 'short'}\n",
    "print(a)\n",
    "print('=' * 80)\n",
    "\n",
    "'''\n",
    "# set에 저장된 데이터의 개수가 변경되지 않는다면 set 크기만큼 반복시키면 된다.\n",
    "for i in range(4):\n",
    "    print(a[i]) # set은 인덱싱을 지원하지 않기 때문에 에러가 발생된다.\n",
    "print('=' * 80)\n",
    "\n",
    "# set에 저장된 데이터의 개수가 변한다면 len() 함수를 이용해서 set에 저장된 데이터의 개수를 얻어와 반복시킨다.\n",
    "for i in range(len(a)):\n",
    "    print(a[i]) # set은 인덱싱을 지원하지 않기 때문에 에러가 발생된다.\n",
    "print('=' * 80)\n",
    "'''\n",
    "# range() 함수 대신 데이터가 저장된 set를 사용하면 set에 저장된 데이터가 처음부터 차례대로 변수에 대입된다.\n",
    "for i in a:\n",
    "    print(i)\n",
    "print('=' * 80)\n",
    "\n",
    "'''\n",
    "# range() 함수 대신 데이터가 저장된 set를 사용하면 슬라이싱 기능을 이용해서 set의 일부분만 반복시킬 수 있다.\n",
    "for i in a[1:3]: # set은 슬라이싱을 지원하지 않기 때문에 에러가 발생된다.\n",
    "    print(i)\n",
    "'''"
   ]
  },
  {
   "cell_type": "code",
   "execution_count": 12,
   "id": "d8df2889",
   "metadata": {},
   "outputs": [
    {
     "name": "stdout",
     "output_type": "stream",
     "text": [
      "{'apple': 1000, 'banana': 2000, 'melon': 10000, 'mango': 5000}\n",
      "dict_keys(['apple', 'banana', 'melon', 'mango'])\n",
      "dict_values([1000, 2000, 10000, 5000])\n",
      "dict_items([('apple', 1000), ('banana', 2000), ('melon', 10000), ('mango', 5000)])\n"
     ]
    }
   ],
   "source": [
    "a = {'apple': 1000, 'banana': 2000, 'melon': 10000, 'mango': 5000}\n",
    "print(a)\n",
    "print(a.keys())\n",
    "print(a.values())\n",
    "print(a.items())"
   ]
  },
  {
   "cell_type": "code",
   "execution_count": 13,
   "id": "9392e8bd",
   "metadata": {},
   "outputs": [
    {
     "name": "stdout",
     "output_type": "stream",
     "text": [
      "apple\n",
      "banana\n",
      "melon\n",
      "mango\n",
      "================================================================================\n",
      "apple\n",
      "banana\n",
      "melon\n",
      "mango\n"
     ]
    }
   ],
   "source": [
    "for key in a.keys():\n",
    "    print(key)\n",
    "print('=' * 80)\n",
    "# 딕셔너리 이름만 쓰면 딕셔너리이름.keys()를 실행한 것과 같은 결과를 얻는다.\n",
    "for key in a:\n",
    "    print(key)"
   ]
  },
  {
   "cell_type": "code",
   "execution_count": 14,
   "id": "977bf5f9",
   "metadata": {},
   "outputs": [
    {
     "name": "stdout",
     "output_type": "stream",
     "text": [
      "1000\n",
      "2000\n",
      "10000\n",
      "5000\n",
      "================================================================================\n",
      "1000\n",
      "2000\n",
      "10000\n",
      "5000\n",
      "================================================================================\n",
      "1000\n",
      "2000\n",
      "10000\n",
      "5000\n"
     ]
    }
   ],
   "source": [
    "for value in a.values():\n",
    "    print(value)\n",
    "print('=' * 80)\n",
    "for key in a.keys():\n",
    "    print(a[key])\n",
    "print('=' * 80)\n",
    "for key in a.keys():\n",
    "    print(a.get(key))"
   ]
  },
  {
   "cell_type": "code",
   "execution_count": 15,
   "id": "22faf719",
   "metadata": {},
   "outputs": [
    {
     "name": "stdout",
     "output_type": "stream",
     "text": [
      "('apple', 1000)\n",
      "('banana', 2000)\n",
      "('melon', 10000)\n",
      "('mango', 5000)\n",
      "================================================================================\n",
      "apple\n",
      "banana\n",
      "melon\n",
      "mango\n",
      "================================================================================\n",
      "1000\n",
      "2000\n",
      "10000\n",
      "5000\n",
      "================================================================================\n",
      "apple 는(은)  1,000원 입니다.\n",
      "banana는(은)  2,000원 입니다.\n",
      "melon 는(은) 10,000원 입니다.\n",
      "mango 는(은)  5,000원 입니다.\n"
     ]
    }
   ],
   "source": [
    "for item in a.items():\n",
    "    print(item)\n",
    "print('=' * 80)\n",
    "for item in a.items():\n",
    "    print(item[0])\n",
    "print('=' * 80)\n",
    "for item in a.items():\n",
    "    print(item[1])\n",
    "print('=' * 80)\n",
    "for key, value in a.items():\n",
    "    print('{0:6s}는(은) {1:6,d}원 입니다.'.format(key, value))"
   ]
  },
  {
   "cell_type": "code",
   "execution_count": 16,
   "id": "b8bf5a25",
   "metadata": {},
   "outputs": [
    {
     "name": "stdout",
     "output_type": "stream",
     "text": [
      "1등 번호: {39, 11, 12, 21, 24, 29}, 보너스 번호: 34\n"
     ]
    }
   ],
   "source": [
    "import random\n",
    "lotto = set()\n",
    "for i in range(100):\n",
    "    lotto.add(random.randrange(1, 46))\n",
    "    if len(lotto) == 6:\n",
    "        # 반복문을 더 이상 실행할 필요가 없으면 break 명령을 실행해서 반복을 중지시킨다.\n",
    "        break\n",
    "# ====\n",
    "print('1등 번호:', lotto, end=', ')\n",
    "\n",
    "for i in range(100):\n",
    "    bonus = random.randrange(1, 46)\n",
    "    if bonus not in lotto:\n",
    "        break\n",
    "# =====\n",
    "print('보너스 번호:', bonus)"
   ]
  },
  {
   "cell_type": "code",
   "execution_count": null,
   "id": "ce0f6545",
   "metadata": {},
   "outputs": [],
   "source": []
  }
 ],
 "metadata": {
  "kernelspec": {
   "display_name": "Python 3",
   "language": "python",
   "name": "python3"
  },
  "language_info": {
   "codemirror_mode": {
    "name": "ipython",
    "version": 3
   },
   "file_extension": ".py",
   "mimetype": "text/x-python",
   "name": "python",
   "nbconvert_exporter": "python",
   "pygments_lexer": "ipython3",
   "version": "3.9.5"
  }
 },
 "nbformat": 4,
 "nbformat_minor": 5
}
