{
 "cells": [
  {
   "cell_type": "markdown",
   "id": "7bed3de0",
   "metadata": {},
   "source": [
    "while은 조건이 참인 동안 반복하다가 조건이 거짓이 되는 순간 반복이 종료된다.  \n",
    "while로 진입하는 최초 조건이 거짓일 경우 한 번도 반복을 실행하지 않는다.  \n",
    "for는 반복을 몇 번 해야하는지 아는 경우 사용하고 while은 반복을 하기는 해야겠는데 몇 번 해야하는지 정확히 모를 경우 사용한다.  \n",
    "***\n",
    "while 조건식:  \n",
    "&nbsp;&nbsp;&nbsp;&nbsp;조건식이 참일 경우 실행할 문장  \n",
    "&nbsp;&nbsp;&nbsp;&nbsp;..."
   ]
  },
  {
   "cell_type": "code",
   "execution_count": 5,
   "id": "38e1cc35",
   "metadata": {},
   "outputs": [
    {
     "name": "stdout",
     "output_type": "stream",
     "text": [
      "1 ~ 10의 합계: 55\n",
      "1 ~ 10의 합계: 55\n"
     ]
    }
   ],
   "source": [
    "# 1 ~ 10의 합계\n",
    "total = 0\n",
    "for i in range(1, 11):\n",
    "    total += i\n",
    "print('1 ~ 10의 합계: {}'.format(total))\n",
    "\n",
    "i = 0\n",
    "total = 0\n",
    "while i < 10:\n",
    "    i += 1\n",
    "    total += i\n",
    "print('1 ~ 10의 합계: {}'.format(total))"
   ]
  },
  {
   "cell_type": "code",
   "execution_count": 12,
   "id": "3ba9aa78",
   "metadata": {},
   "outputs": [
    {
     "name": "stdout",
     "output_type": "stream",
     "text": [
      "1\n",
      "2\n",
      "3\n",
      "4\n",
      "5\n",
      "========================================\n",
      "1\n",
      "2\n",
      "3\n",
      "4\n",
      "5\n",
      "7\n",
      "8\n",
      "9\n",
      "10\n"
     ]
    }
   ],
   "source": [
    "# while 명령의 조건식이 항상 참이면 무한 루프가 된다.\n",
    "# 사용자가 의도적으로 무한 루프를 발생시켰다면 반드시 무한 루프 종료 처리를 해야 한다. => 반복 탈출 시 break 명령을 사용한다.\n",
    "# break 명령은 for와 while 같은 반복문의 실행을 중시지킨다.\n",
    "# break 명령은 break 명령 다음 문장들을 실행하지 않고 반복을 중지하고 continue 명령은 continue 명령 다음 문장들을 실행하지\n",
    "# 않고 계속 반복을 실행한다.\n",
    "\n",
    "for i in range(1, 11):\n",
    "    if i == 6:\n",
    "        break\n",
    "    print(i)\n",
    "print('=' * 40)\n",
    "\n",
    "for i in range(1, 11):\n",
    "    if i == 6:\n",
    "        continue\n",
    "    print(i)"
   ]
  },
  {
   "cell_type": "code",
   "execution_count": 20,
   "id": "98da88e3",
   "metadata": {},
   "outputs": [
    {
     "name": "stdout",
     "output_type": "stream",
     "text": [
      "========================================\n",
      " 1.입력  2.보기  3.수정  4.삭제  5.종료 \n",
      "========================================\n",
      "원하는 메뉴를 입력하고 엔터키를 누르세요: 5\n",
      "프로그램을 종료합니다. 바이바이~~~~~\n"
     ]
    }
   ],
   "source": [
    "menu = 0\n",
    "while menu != 5:\n",
    "    while True:\n",
    "        print('=' * 40)\n",
    "        print(' 1.입력  2.보기  3.수정  4.삭제  5.종료 ')\n",
    "        print('=' * 40)\n",
    "        menu = int(input('원하는 메뉴를 입력하고 엔터키를 누르세요: '))\n",
    "        # if 1 <= menu <= 5:\n",
    "        if menu >= 1 and menu <= 5:\n",
    "        # if menu in [1, 2, 3, 4, 5]:\n",
    "        # if menu in [i for i in range(1, 6)]:\n",
    "        # if menu in list(range(1, 6)):\n",
    "        # if menu in range(1, 6):\n",
    "            break\n",
    "        else:\n",
    "            print('메뉴는 1 ~ 5 사이의 값만 입력해야 합니다.')\n",
    "    # ===== while True 끝\n",
    "\n",
    "    # 여기까지 왔다면 메뉴에는 1 ~ 5 사이의 정수가 입력되었다는 의미이다.\n",
    "    if menu == 1:\n",
    "        print('입력 작업 실행')\n",
    "    elif menu == 2:\n",
    "        print('보기 작업 실행')\n",
    "    elif menu == 3:\n",
    "        print('수정 작업 실행')\n",
    "    elif menu == 4:\n",
    "        print('삭제 작업 실행')\n",
    "# ===== while menu != 5 끝\n",
    "print('프로그램을 종료합니다. 바이바이~~~~~')"
   ]
  },
  {
   "cell_type": "code",
   "execution_count": 21,
   "id": "72997ef2",
   "metadata": {},
   "outputs": [],
   "source": [
    "import random"
   ]
  },
  {
   "cell_type": "code",
   "execution_count": 69,
   "id": "63fb4b4c",
   "metadata": {},
   "outputs": [
    {
     "name": "stdout",
     "output_type": "stream",
     "text": [
      "23 {23}\n",
      "12 {12, 23}\n",
      "15 {12, 15, 23}\n",
      "25 {25, 12, 15, 23}\n",
      " 2 {2, 12, 15, 23, 25}\n",
      " 2 {2, 12, 15, 23, 25}\n",
      "33 {33, 2, 12, 15, 23, 25}\n",
      "1등 번호: {33, 2, 12, 15, 23, 25}\n",
      "23 21 보너스 번호: 21\n"
     ]
    }
   ],
   "source": [
    "lotto = set()\n",
    "# 1등 번호\n",
    "while True:\n",
    "    lottoNumber = random.randrange(1, 46)\n",
    "    print('{0:2d} '.format(lottoNumber), end='')\n",
    "    lotto.add(lottoNumber)\n",
    "    print(lotto)\n",
    "    if len(lotto) == 6:\n",
    "        break\n",
    "print('1등 번호: {}'.format(lotto))\n",
    "\n",
    "# 보너스 번호\n",
    "while True:\n",
    "    bonus = random.randrange(1, 46)\n",
    "    print('{0:2d} '.format(bonus), end='')\n",
    "    if bonus not in lotto:\n",
    "        break\n",
    "print('보너스 번호: {}'.format(bonus))"
   ]
  },
  {
   "cell_type": "code",
   "execution_count": 87,
   "id": "73b7726d",
   "metadata": {},
   "outputs": [
    {
     "name": "stdout",
     "output_type": "stream",
     "text": [
      "18 {18}\n",
      " 5 {18, 5}\n",
      "13 {18, 13, 5}\n",
      "48 {48, 18, 13, 5}\n",
      "61 {5, 13, 48, 18, 61}\n",
      "흰공: {5, 13, 48, 18, 61}\n",
      "빨강공: 13\n"
     ]
    }
   ],
   "source": [
    "# 미국 로또(파워볼)는 흰공(1 ~ 69)에서 5개, 빨강공(1 ~ 26)에서 1개\n",
    "lotto = set()\n",
    "# 1등 번호\n",
    "while True:\n",
    "    lottoNumber = random.randrange(1, 70)\n",
    "    print('{0:2d} '.format(lottoNumber), end='')\n",
    "    lotto.add(lottoNumber)\n",
    "    print(lotto)\n",
    "    if len(lotto) == 5:\n",
    "        break\n",
    "print('흰공: {}'.format(lotto))\n",
    "\n",
    "# 보너스 번호\n",
    "print('빨강공: {}'.format(random.randrange(1, 27)))"
   ]
  },
  {
   "cell_type": "code",
   "execution_count": null,
   "id": "e3b4612b",
   "metadata": {},
   "outputs": [],
   "source": []
  },
  {
   "cell_type": "code",
   "execution_count": null,
   "id": "199ac2bd",
   "metadata": {},
   "outputs": [],
   "source": []
  },
  {
   "cell_type": "code",
   "execution_count": null,
   "id": "3919995d",
   "metadata": {},
   "outputs": [],
   "source": []
  },
  {
   "cell_type": "code",
   "execution_count": null,
   "id": "f43ef4bf",
   "metadata": {},
   "outputs": [],
   "source": []
  }
 ],
 "metadata": {
  "kernelspec": {
   "display_name": "Python 3",
   "language": "python",
   "name": "python3"
  },
  "language_info": {
   "codemirror_mode": {
    "name": "ipython",
    "version": 3
   },
   "file_extension": ".py",
   "mimetype": "text/x-python",
   "name": "python",
   "nbconvert_exporter": "python",
   "pygments_lexer": "ipython3",
   "version": "3.9.5"
  }
 },
 "nbformat": 4,
 "nbformat_minor": 5
}
