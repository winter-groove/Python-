{
 "cells": [
  {
   "cell_type": "code",
   "execution_count": 2,
   "id": "dc75a868",
   "metadata": {},
   "outputs": [],
   "source": [
    "# 데이터를 인수로 넘겨받아 딕셔너리를 만들어 리턴하는 함수\n",
    "# 데이터를 넘겨받아 딕셔너리로 처리하는 인수는 앞에 '**'를 붙여서 선언한다.\n",
    "def func7(**kargs):\n",
    "    # print(type(kargs))\n",
    "    print(kargs)"
   ]
  },
  {
   "cell_type": "code",
   "execution_count": 3,
   "id": "6e406289",
   "metadata": {},
   "outputs": [
    {
     "name": "stdout",
     "output_type": "stream",
     "text": [
      "{'name': '홍길동'}\n",
      "{'name': '홍길동', 'phone': '010-1234-5678'}\n",
      "{'name': '홍길동', 'phone': '010-1234-5678', 'age': 20}\n"
     ]
    }
   ],
   "source": [
    "# 앞에 '**'붙여서 딕셔너리로 만들 데이터를 받는 인수에는 key=value 형태의 데이터를 넘겨줘야 한다.\n",
    "func7(name='홍길동')\n",
    "func7(name='홍길동', phone='010-1234-5678')\n",
    "func7(name='홍길동', phone='010-1234-5678', age=20)"
   ]
  },
  {
   "cell_type": "code",
   "execution_count": null,
   "id": "d5ed4c0e",
   "metadata": {},
   "outputs": [],
   "source": []
  }
 ],
 "metadata": {
  "kernelspec": {
   "display_name": "Python 3",
   "language": "python",
   "name": "python3"
  },
  "language_info": {
   "codemirror_mode": {
    "name": "ipython",
    "version": 3
   },
   "file_extension": ".py",
   "mimetype": "text/x-python",
   "name": "python",
   "nbconvert_exporter": "python",
   "pygments_lexer": "ipython3",
   "version": "3.9.5"
  }
 },
 "nbformat": 4,
 "nbformat_minor": 5
}
